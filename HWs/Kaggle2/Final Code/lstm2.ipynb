{
  "nbformat": 4,
  "nbformat_minor": 0,
  "metadata": {
    "colab": {
      "provenance": []
    },
    "kernelspec": {
      "name": "python3",
      "display_name": "Python 3"
    },
    "language_info": {
      "name": "python"
    },
    "accelerator": "GPU",
    "gpuClass": "standard"
  },
  "cells": [
    {
      "cell_type": "code",
      "execution_count": 4,
      "metadata": {
        "id": "yqb_Ljyz8RJ3"
      },
      "outputs": [],
      "source": [
        "'''Train a Bidirectional LSTM on the IMDB sentiment classification task.\n",
        "Output after 4 epochs on CPU: ~0.8146\n",
        "Time per epoch on CPU (Core i7): ~150s.\n",
        "'''\n",
        "# https://github.com/changhuixu/LSTM-sentiment-analysis/tree/35ed3660cb11fb7a366230331be5d747d63bc492\n",
        "\n",
        "from __future__ import print_function\n",
        "import numpy as np\n",
        "np.random.seed(1337)  # for reproducibility\n",
        "\n",
        "from keras.preprocessing import sequence\n",
        "from keras.utils.data_utils import pad_sequences\n",
        "from keras.models import Model\n",
        "from keras.layers import Dense, Dropout, Embedding, LSTM, Input, concatenate\n",
        "import json\n",
        "import pandas as pd\n",
        "from sklearn.metrics import precision_score, accuracy_score, recall_score\n",
        "\n",
        "\n",
        "max_features = 22142\n",
        "maxlen = 50  # cut texts after this number of words (among top max_features most common words)\n",
        "batch_size = 32\n",
        "path  = \"/content/drive/MyDrive/Kaggle 2 data/\"\n",
        "\n"
      ]
    },
    {
      "cell_type": "code",
      "source": [
        "print('Loading data...')\n",
        "# (X_train, y_train), (X_test, y_test) = imdbReviews.load_data(nb_words=max_features)\n",
        "\n",
        "with open(path+\"processed strings_lem (1).json\") as train:\n",
        "    training = json.load(train)\n",
        "with open(path+\"processed strings_lem_test.json\") as test:\n",
        "    testing = json.load(test)\n",
        "\n",
        "with open(path+\"processed_words_lem_dict_sorted (1).json\") as dictt:\n",
        "    words_dict = json.load(dictt)\n",
        "\n",
        "train_results = pd.read_csv(path+\"train_results.csv\")\n",
        "train_results = list(train_results['target'])"
      ],
      "metadata": {
        "colab": {
          "base_uri": "https://localhost:8080/"
        },
        "id": "O5oSMyfa8c4T",
        "outputId": "408ffe73-24be-4a8b-a31e-4bf25b8349fe"
      },
      "execution_count": 5,
      "outputs": [
        {
          "output_type": "stream",
          "name": "stdout",
          "text": [
            "Loading data...\n"
          ]
        }
      ]
    },
    {
      "cell_type": "code",
      "source": [
        "from google.colab import drive\n",
        "drive.mount('/content/drive')"
      ],
      "metadata": {
        "colab": {
          "base_uri": "https://localhost:8080/"
        },
        "id": "iuPi1xpzchsz",
        "outputId": "b706cd52-3625-48a1-b16f-388cfda8b119"
      },
      "execution_count": 6,
      "outputs": [
        {
          "output_type": "stream",
          "name": "stdout",
          "text": [
            "Drive already mounted at /content/drive; to attempt to forcibly remount, call drive.mount(\"/content/drive\", force_remount=True).\n"
          ]
        }
      ]
    },
    {
      "cell_type": "code",
      "source": [
        "new_data = []\n",
        "for i in range(len(train_results)):\n",
        "    if train_results[i] == 'neutral':\n",
        "        res = 1\n",
        "    elif train_results[i] == 'negative':\n",
        "        res = 0\n",
        "    elif train_results[i] == 'positive':\n",
        "        res = 2\n",
        "    new_data.append(res)\n",
        "\n",
        "words = dict((value, idx) for idx, value in enumerate(list(words_dict.keys())))\n",
        "\n",
        "training = [[words[w] for w in sent.split(\" \") if words[w]<22142] for sent in training]\n",
        "testing = [[words[w] for w in sent.split(\" \") if (w in words and words[w]<22142)] for sent in testing]"
      ],
      "metadata": {
        "id": "3nTefufp8gkT"
      },
      "execution_count": 7,
      "outputs": []
    },
    {
      "cell_type": "code",
      "source": [
        "# print(\"max sentence length:\")\n",
        "# print(max([len(x) for x in training + testing]))\n",
        "X_train = training[:900000]\n",
        "X_test = training[900000:1000000]\n",
        "y_train = new_data[:900000]\n",
        "y_test = new_data[900000:1000000]\n",
        "\n",
        "\n",
        "\n",
        "print(len(X_train), 'train sequences')\n",
        "print(len(X_test), 'test sequences')"
      ],
      "metadata": {
        "colab": {
          "base_uri": "https://localhost:8080/"
        },
        "id": "hKZN9BkH8lab",
        "outputId": "3d8fd680-1550-46ae-c410-5702fa3d4658"
      },
      "execution_count": 8,
      "outputs": [
        {
          "output_type": "stream",
          "name": "stdout",
          "text": [
            "900000 train sequences\n",
            "100000 test sequences\n"
          ]
        }
      ]
    },
    {
      "cell_type": "code",
      "source": [
        "print(\"Pad sequences (samples x time)\")\n",
        "\n",
        "X_train = pad_sequences(X_train, maxlen=maxlen)\n",
        "# print(type(X_train))\n",
        "testing = pad_sequences(testing, maxlen=maxlen)\n",
        "X_test = pad_sequences(X_test, maxlen=maxlen)\n",
        "print('X_train shape:', X_train.shape)\n",
        "print('X_test shape:', X_test.shape)\n",
        "y_train = np.array(y_train)\n",
        "y_test = np.array(y_test)\n",
        "\n",
        "\n",
        "# this is the placeholder tensor for the input sequences\n",
        "sequence = Input(shape=(maxlen,), dtype='int32')\n",
        "# this embedding layer will transform the sequences of integers\n",
        "# into vectors of size 128\n",
        "embedded = Embedding(max_features, 128, input_length=maxlen)(sequence)\n",
        "\n",
        "# apply forwards LSTM\n",
        "forwards = LSTM(64)(embedded)\n",
        "# apply backwards LSTM\n",
        "backwards = LSTM(64, go_backwards=True)(embedded)\n",
        "\n",
        "# concatenate the outputs of the 2 LSTMs\n",
        "merged = concatenate([forwards, backwards], axis=-1)\n",
        "after_dp = Dropout(0.1)(merged)\n",
        "output = Dense(3, activation='softmax', kernel_initializer='he_uniform', kernel_regularizer='l2')(after_dp)\n",
        "\n",
        "model = Model(sequence, output)\n",
        "\n",
        "from keras.optimizers import Adam\n",
        "# try using different optimizers and different optimizer configs\n",
        "model.compile(Adam(lr=0.002), 'sparse_categorical_crossentropy', metrics=['sparse_categorical_accuracy'])\n"
      ],
      "metadata": {
        "colab": {
          "base_uri": "https://localhost:8080/"
        },
        "id": "fxoqU5B58sLg",
        "outputId": "76af76d4-99f2-4479-8db6-e5c28321fcc4"
      },
      "execution_count": 9,
      "outputs": [
        {
          "output_type": "stream",
          "name": "stdout",
          "text": [
            "Pad sequences (samples x time)\n",
            "X_train shape: (900000, 50)\n",
            "X_test shape: (100000, 50)\n"
          ]
        },
        {
          "output_type": "stream",
          "name": "stderr",
          "text": [
            "/usr/local/lib/python3.8/dist-packages/keras/optimizers/optimizer_v2/adam.py:110: UserWarning: The `lr` argument is deprecated, use `learning_rate` instead.\n",
            "  super(Adam, self).__init__(name, **kwargs)\n"
          ]
        }
      ]
    },
    {
      "cell_type": "code",
      "source": [
        "\n",
        "X_train = np.asarray(X_train).astype(np.float32)\n",
        "# y_train = np.asarray(y_train).astype(np.float32)\n",
        "X_test = np.asarray(X_test).astype(np.float32)\n",
        "# y_test = np.asarray(y_test).astype(np.float32)\n",
        "\n",
        "print('Train...')\n",
        "history = model.fit(X_train, y_train,\n",
        "          batch_size=batch_size,\n",
        "          epochs=10,\n",
        "          validation_data=[X_test, y_test])\n"
      ],
      "metadata": {
        "colab": {
          "base_uri": "https://localhost:8080/"
        },
        "id": "zWQtWI9k8y3V",
        "outputId": "9834dda9-c27f-46ba-85f4-0fec9c1395b8"
      },
      "execution_count": 10,
      "outputs": [
        {
          "output_type": "stream",
          "name": "stdout",
          "text": [
            "Train...\n",
            "Epoch 1/10\n",
            "28125/28125 [==============================] - 266s 9ms/step - loss: 0.4653 - sparse_categorical_accuracy: 0.7818 - val_loss: 0.4448 - val_sparse_categorical_accuracy: 0.7947\n",
            "Epoch 2/10\n",
            "28125/28125 [==============================] - 255s 9ms/step - loss: 0.4296 - sparse_categorical_accuracy: 0.8026 - val_loss: 0.4445 - val_sparse_categorical_accuracy: 0.7960\n",
            "Epoch 3/10\n",
            "28125/28125 [==============================] - 254s 9ms/step - loss: 0.4148 - sparse_categorical_accuracy: 0.8118 - val_loss: 0.4440 - val_sparse_categorical_accuracy: 0.7963\n",
            "Epoch 4/10\n",
            "28125/28125 [==============================] - 249s 9ms/step - loss: 0.4043 - sparse_categorical_accuracy: 0.8178 - val_loss: 0.4482 - val_sparse_categorical_accuracy: 0.7948\n",
            "Epoch 5/10\n",
            "28125/28125 [==============================] - 251s 9ms/step - loss: 0.3970 - sparse_categorical_accuracy: 0.8218 - val_loss: 0.4509 - val_sparse_categorical_accuracy: 0.7946\n",
            "Epoch 6/10\n",
            "28125/28125 [==============================] - 248s 9ms/step - loss: 0.3912 - sparse_categorical_accuracy: 0.8255 - val_loss: 0.4549 - val_sparse_categorical_accuracy: 0.7944\n",
            "Epoch 7/10\n",
            "28125/28125 [==============================] - 251s 9ms/step - loss: 0.3862 - sparse_categorical_accuracy: 0.8283 - val_loss: 0.4512 - val_sparse_categorical_accuracy: 0.7932\n",
            "Epoch 8/10\n",
            "28125/28125 [==============================] - 249s 9ms/step - loss: 0.3827 - sparse_categorical_accuracy: 0.8304 - val_loss: 0.4522 - val_sparse_categorical_accuracy: 0.7928\n",
            "Epoch 9/10\n",
            "28125/28125 [==============================] - 249s 9ms/step - loss: 0.3795 - sparse_categorical_accuracy: 0.8326 - val_loss: 0.4603 - val_sparse_categorical_accuracy: 0.7923\n",
            "Epoch 10/10\n",
            "28125/28125 [==============================] - 249s 9ms/step - loss: 0.3781 - sparse_categorical_accuracy: 0.8332 - val_loss: 0.4569 - val_sparse_categorical_accuracy: 0.7906\n"
          ]
        }
      ]
    },
    {
      "cell_type": "code",
      "source": [
        "model.optimizer.get_config()"
      ],
      "metadata": {
        "colab": {
          "base_uri": "https://localhost:8080/"
        },
        "id": "byyYdz7-jisA",
        "outputId": "6f77f3bb-ef61-4ce5-d756-3b08a00b828a"
      },
      "execution_count": 11,
      "outputs": [
        {
          "output_type": "execute_result",
          "data": {
            "text/plain": [
              "{'name': 'Adam',\n",
              " 'learning_rate': 0.002,\n",
              " 'decay': 0.0,\n",
              " 'beta_1': 0.9,\n",
              " 'beta_2': 0.999,\n",
              " 'epsilon': 1e-07,\n",
              " 'amsgrad': False}"
            ]
          },
          "metadata": {},
          "execution_count": 11
        }
      ]
    },
    {
      "cell_type": "code",
      "source": [
        "print(history.history.keys())\n",
        "print(history.history['val_loss'])\n",
        "print(history.history['loss'])\n",
        "loss_list = history.history['loss']\n",
        "val_loss_list = history.history['val_loss']\n",
        "acc = history.history['sparse_categorical_accuracy']\n",
        "val_acc = history.history['val_sparse_categorical_accuracy']"
      ],
      "metadata": {
        "colab": {
          "base_uri": "https://localhost:8080/"
        },
        "id": "DYq6LHgHcUvS",
        "outputId": "b956531e-e668-4d84-846e-d08845bd719b"
      },
      "execution_count": 12,
      "outputs": [
        {
          "output_type": "stream",
          "name": "stdout",
          "text": [
            "dict_keys(['loss', 'sparse_categorical_accuracy', 'val_loss', 'val_sparse_categorical_accuracy'])\n",
            "[0.4448067247867584, 0.4445349872112274, 0.44401121139526367, 0.4481925368309021, 0.4509207308292389, 0.4549025297164917, 0.45119526982307434, 0.4522225260734558, 0.4603100121021271, 0.45694586634635925]\n",
            "[0.4652702212333679, 0.4296424984931946, 0.4148085117340088, 0.40430527925491333, 0.39703625440597534, 0.391164630651474, 0.38615527749061584, 0.3827466070652008, 0.37949809432029724, 0.3781372904777527]\n"
          ]
        }
      ]
    },
    {
      "cell_type": "code",
      "source": [
        "import matplotlib.pyplot as plt\n",
        "\n",
        "\n",
        "plt.figure()\n",
        "\n",
        "plt.xticks(range(1,11))\n",
        "plt.plot(list(range(1, len(loss_list)+1, 1)), loss_list, label=\"training loss\")\n",
        "plt.plot(list(range(1, len(val_loss_list)+1, 1)), val_loss_list, label=\"validation loss\")\n",
        "plt.xlabel(\"epochs\")\n",
        "plt.ylabel(\"Loss\")\n",
        "plt.title(\"Development of Loss during training\")\n",
        "plt.legend()\n",
        "# plt.close()"
      ],
      "metadata": {
        "colab": {
          "base_uri": "https://localhost:8080/",
          "height": 312
        },
        "id": "hdWgL8YEcH7L",
        "outputId": "7b90a61d-d3fc-4808-bcca-830cbbd16a4d"
      },
      "execution_count": 13,
      "outputs": [
        {
          "output_type": "execute_result",
          "data": {
            "text/plain": [
              "<matplotlib.legend.Legend at 0x7f2abb35eb20>"
            ]
          },
          "metadata": {},
          "execution_count": 13
        },
        {
          "output_type": "display_data",
          "data": {
            "text/plain": [
              "<Figure size 432x288 with 1 Axes>"
            ],
            "image/png": "[encoded data removed]"
          },
          "metadata": {
            "needs_background": "light"
          }
        }
      ]
    },
    {
      "cell_type": "code",
      "source": [
        "print(acc)\n",
        "print(val_acc)\n",
        "plt.figure()\n",
        "\n",
        "plt.xticks(range(1,11))\n",
        "plt.plot(list(range(1, len(acc)+1, 1)), acc, label=\"training accuracy\")\n",
        "plt.plot(list(range(1, len(val_acc)+1, 1)), val_acc, label=\"validation accuracy\")\n",
        "plt.xlabel(\"epochs\")\n",
        "plt.ylabel(\"Accuracy\")\n",
        "plt.title(\"Development of accuracy during training\")\n",
        "plt.legend()"
      ],
      "metadata": {
        "colab": {
          "base_uri": "https://localhost:8080/",
          "height": 367
        },
        "id": "KoSlYSkAcX-L",
        "outputId": "7ca7b0ae-ae9b-4034-bb73-034dff8a4876"
      },
      "execution_count": 14,
      "outputs": [
        {
          "output_type": "stream",
          "name": "stdout",
          "text": [
            "[0.7818255424499512, 0.8025722503662109, 0.8117789030075073, 0.8177700042724609, 0.821785569190979, 0.8255422115325928, 0.8283266425132751, 0.8304177522659302, 0.832581102848053, 0.8332377672195435]\n",
            "[0.7946500182151794, 0.7960399985313416, 0.7962899804115295, 0.7947800159454346, 0.7945799827575684, 0.7944300174713135, 0.7932400107383728, 0.7927799820899963, 0.7922700047492981, 0.7906000018119812]\n"
          ]
        },
        {
          "output_type": "execute_result",
          "data": {
            "text/plain": [
              "<matplotlib.legend.Legend at 0x7f2abb035c70>"
            ]
          },
          "metadata": {},
          "execution_count": 14
        },
        {
          "output_type": "display_data",
          "data": {
            "text/plain": [
              "<Figure size 432x288 with 1 Axes>"
            ],
            "image/png": "[encoded data removed]"
          },
          "metadata": {
            "needs_background": "light"
          }
        }
      ]
    },
    {
      "cell_type": "code",
      "source": [
        "\n",
        "y_prob = model.predict(X_test)\n",
        "# print(y_prob)\n",
        "pred = y_prob.argmax(axis=-1)\n",
        "print(\"validation accuracy is: \")\n",
        "# print(pred)\n",
        "acc = accuracy_score(y_test, pred)\n",
        "print(acc)"
      ],
      "metadata": {
        "colab": {
          "base_uri": "https://localhost:8080/"
        },
        "id": "rjO04fzk817x",
        "outputId": "305f5c39-0dae-43de-dd3c-12dac413cbc7"
      },
      "execution_count": 15,
      "outputs": [
        {
          "output_type": "stream",
          "name": "stdout",
          "text": [
            "3125/3125 [==============================] - 12s 3ms/step\n",
            "validation accuracy is: \n",
            "0.7906\n"
          ]
        }
      ]
    },
    {
      "cell_type": "code",
      "source": [
        "\n",
        "\n",
        "testing = np.asarray(testing).astype(np.float32)\n",
        "prob = model.predict(testing)\n",
        "prediction = prob.argmax(axis=-1)\n",
        "df = pd.DataFrame(prediction, columns =['target'])\n",
        "df.reset_index(inplace=True)\n",
        "df = df.rename(columns={'index': 'id'})\n",
        "df.to_csv(\"prediction_7977,dropout0.1,3epochs.csv\", index=False)\n",
        "\n"
      ],
      "metadata": {
        "colab": {
          "base_uri": "https://localhost:8080/"
        },
        "id": "3cDsNwuU8Y_O",
        "outputId": "dd9eb100-7c39-4427-fb8a-90779ad72f3a"
      },
      "execution_count": 16,
      "outputs": [
        {
          "output_type": "stream",
          "name": "stdout",
          "text": [
            "17506/17506 [==============================] - 62s 3ms/step\n"
          ]
        }
      ]
    },
    {
      "cell_type": "code",
      "source": [],
      "metadata": {
        "id": "EjwW38oTVR80"
      },
      "execution_count": 16,
      "outputs": []
    }
  ]
}